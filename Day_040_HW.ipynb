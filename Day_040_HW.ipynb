{
 "cells": [
  {
   "cell_type": "markdown",
   "metadata": {},
   "source": [
    "## [作業重點]\n",
    "使用 Sklearn 中的 Lasso, Ridge 模型，來訓練各種資料集，務必了解送進去模型訓練的**資料型態**為何，也請了解模型中各項參數的意義。\n",
    "\n",
    "機器學習的模型非常多種，但要訓練的資料多半有固定的格式，確保你了解訓練資料的格式為何，這樣在應用新模型時，就能夠最快的上手開始訓練！"
   ]
  },
  {
   "cell_type": "markdown",
   "metadata": {},
   "source": [
    "## 練習時間\n",
    "試著使用 sklearn datasets 的其他資料集 (boston, ...)，來訓練自己的線性迴歸模型，並加上適當的正則話來觀察訓練情形。"
   ]
  },
  {
   "cell_type": "code",
   "execution_count": 1,
   "metadata": {},
   "outputs": [],
   "source": [
    "import numpy as np\n",
    "import matplotlib.pyplot as plt\n",
    "from sklearn import datasets, linear_model\n",
    "from sklearn.model_selection import train_test_split\n",
    "from sklearn.metrics import mean_squared_error, r2_score"
   ]
  },
  {
   "cell_type": "code",
   "execution_count": 17,
   "metadata": {},
   "outputs": [
    {
     "name": "stdout",
     "output_type": "stream",
     "text": [
      "Linear Mean Squared Error：25.42\n"
     ]
    }
   ],
   "source": [
    "boston = datasets.load_boston()\n",
    "x_train, x_test, y_train, y_test = train_test_split(boston.data, boston.target, test_size=0.2, random_state=4)\n",
    "linear_reg_boston = linear_model.LinearRegression().fit(x_train, y_train)\n",
    "y_pred = linear_reg_boston.predict(x_test)\n",
    "print(\"Linear Mean Squared Error：%.2f\" % mean_squared_error(y_test, y_pred))"
   ]
  },
  {
   "cell_type": "code",
   "execution_count": 19,
   "metadata": {},
   "outputs": [
    {
     "name": "stdout",
     "output_type": "stream",
     "text": [
      "Mean Squared Error：25.74\n"
     ]
    }
   ],
   "source": [
    "ridge_reg_boston = linear_model.Ridge().fit(x_train, y_train)\n",
    "y_pred = ridge_reg_boston.predict(x_test)\n",
    "print(\"Mean Squared Error：%.2f\" % mean_squared_error(y_test, y_pred))"
   ]
  },
  {
   "cell_type": "code",
   "execution_count": 20,
   "metadata": {},
   "outputs": [
    {
     "name": "stdout",
     "output_type": "stream",
     "text": [
      "Mean Squared Error：28.95\n"
     ]
    }
   ],
   "source": [
    "lasso_reg_boston = linear_model.Lasso().fit(x_train, y_train)\n",
    "y_pred = lasso_reg_boston.predict(x_test)\n",
    "print(\"Mean Squared Error：%.2f\" % mean_squared_error(y_test, y_pred))"
   ]
  },
  {
   "cell_type": "code",
   "execution_count": 21,
   "metadata": {},
   "outputs": [
    {
     "name": "stdout",
     "output_type": "stream",
     "text": [
      "Linear Mean Squared Error：386.15\n"
     ]
    }
   ],
   "source": [
    "# 採用multivariate regression Datas\n",
    "linnerud = datasets.load_linnerud()\n",
    "x_train, x_test, y_train, y_test = train_test_split(linnerud.data, linnerud.target, test_size=0.2, random_state=4)\n",
    "linear_reg_linnerud = linear_model.LinearRegression().fit(x_train, y_train)\n",
    "y_pred = linear_reg_linnerud.predict(x_test)\n",
    "print(\"Linear Mean Squared Error：%.2f\" % mean_squared_error(y_test, y_pred))"
   ]
  },
  {
   "cell_type": "code",
   "execution_count": 30,
   "metadata": {},
   "outputs": [
    {
     "name": "stdout",
     "output_type": "stream",
     "text": [
      "Ridge Mean Squared Error：384.07\n",
      "Ridge alpha：10.00\n"
     ]
    }
   ],
   "source": [
    "ridge_reg_linnerud = linear_model.RidgeCV().fit(x_train, y_train)\n",
    "y_pred = ridge_reg_linnerud.predict(x_test)\n",
    "print(\"Ridge Mean Squared Error：%.2f\" % mean_squared_error(y_test, y_pred))\n",
    "print(\"Ridge alpha：%.2f\" % ridge_reg_linnerud.alpha_)"
   ]
  },
  {
   "cell_type": "code",
   "execution_count": 36,
   "metadata": {},
   "outputs": [
    {
     "name": "stdout",
     "output_type": "stream",
     "text": [
      "Lasso Mean Squared Error：382.88\n"
     ]
    }
   ],
   "source": [
    "lasso_reg_linnerud = linear_model.Lasso().fit(x_train, y_train)\n",
    "y_pred = lasso_reg_linnerud.predict(x_test)\n",
    "print(\"Lasso Mean Squared Error：%.2f\" % mean_squared_error(y_test, y_pred))\n",
    "# print(\"Lasso alpha：%.2f\" % lasso_reg_linnerud.alpha_)"
   ]
  },
  {
   "cell_type": "code",
   "execution_count": null,
   "metadata": {},
   "outputs": [],
   "source": []
  }
 ],
 "metadata": {
  "kernelspec": {
   "display_name": "Python 3",
   "language": "python",
   "name": "python3"
  },
  "language_info": {
   "codemirror_mode": {
    "name": "ipython",
    "version": 3
   },
   "file_extension": ".py",
   "mimetype": "text/x-python",
   "name": "python",
   "nbconvert_exporter": "python",
   "pygments_lexer": "ipython3",
   "version": "3.7.3"
  }
 },
 "nbformat": 4,
 "nbformat_minor": 2
}
