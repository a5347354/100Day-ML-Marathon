{
 "cells": [
  {
   "cell_type": "markdown",
   "metadata": {},
   "source": [
    "# 作業 1\n",
    "請上 Kaggle, 在 Competitions 或 Dataset 中找一組競賽或資料並寫下：\n",
    "1. **你選的這組資料為何重要**\n",
    "<br>[Heart Disease UCI](https://www.kaggle.com/ronitf/heart-disease-uci) 這組資料，這是一份關於心臟疾病患者的資料，\b我認為可以使用這份資料來\b\b建立模型，隨著穿戴型裝置的興起，可預先知道是否可能患有心臟疾病，盡快就醫來預防心臟疾病的發生．\n",
    "<br>\n",
    "2. **資料從何而來 (tips: 譬如提供者是誰、以什麼方式蒐集)**\n",
    "<br>這份資料應該來自醫院，可能是醫生或研究者，屬於病患的詳細資料，可能藉由儀器去做蒐集．\n",
    "3. **蒐集而來的資料型態為何**\n",
    "<br>age: 數值(int)\n",
    "<br>sex: 數值(int)\n",
    "<br>cpchest: 數值(int)\n",
    "<br>trestbpsresting blood pressure: 數值(int)\n",
    "<br>cholserum cholestoral: 數值(int)\n",
    "<br>fbs: 數值(int)\n",
    "<br>restecgresting electrocardiographic results: 數值(int)\n",
    "<br>thalachmaximum heart rate achieved: 數值(int)\n",
    "<br>exangexercise induced angina: 數值(int)\n",
    "<br>oldpeakST depression induced by exercise relative to rest: 數值(float)\n",
    "<br>slopethe slope of the peak exercise ST segment: 數值(int)\n",
    "<br>canumber of major vessels (0-3) colored by flourosopy: 數值(int)\n",
    "<br>thal: 數值(int)\n",
    "<br>target: 數值(int)\n",
    "4. **這組資料想解決的問題如何評估**\n",
    "> 貢獻者想要解決的問題：<br>\n",
    "> See if you can find any other trends in heart data to predict certain cardiovascular events or find any clear indications of heart health.\n",
    "<p>從資料找出特徵，簡單來說比如在某個血壓異常時，可能會出現哪些心臟疾病。\n",
    "\n",
    "\n",
    "\n",
    "# 作業 2\n",
    "想像你經營一個自由載客車隊，你希望能透過數據分析以提升業績，請你思考並描述你如何規劃整體的分析/解決方案：\n",
    "1. **核心問題為何 (tips：如何定義 「提升業績 & 你的假設」)**\n",
    "<br>如何將效率最大化，要尋找最多上下車地點以及時段，讓所有空車都是滿的，或者瞭解我們的客群．\n",
    "2. **資料從何而來 (tips：哪些資料可能會對你想問的問題產生影響 & 資料如何蒐集)**\n",
    "<br>首先瞭解客群，需要先搜集載客的資料，若都是旅行者且在台北，可以搜集飛機抵達時間以及機捷的到站時間做結合，以找出最有可能叫車的地點．資料蒐集部分需請客人填寫相關資料，上Skyscanner搜集飛機時間、上政府公開資料網做蒐集．\n",
    "3. **蒐集而來的資料型態為何**\n",
    "<br>客戶職業: string\n",
    "<br>搭乘次數: int\n",
    "<br>搭乘地點: string\n",
    "<br>飛機抵達時間: timestamp\n",
    "<br>捷運抵達時間: timestamp\n",
    "4. **你要回答的問題，其如何評估 (tips：你的假設如何驗證)**\n",
    "<br>空車率是否在該時間點有下降。\n"
   ]
  },
  {
   "cell_type": "markdown",
   "metadata": {},
   "source": [
    "# 作業 3 \n",
    "#### 請寫一個函式用來計算 Mean Square Error\n",
    "$ MSE = \\frac{1}{n}\\sum_{i=1}^{n}{(Y_i - \\hat{Y}_i)^2} $\n",
    "\n",
    "### Hint: [如何取平方](https://googoodesign.gitbooks.io/-ezpython/unit-1.html)"
   ]
  },
  {
   "cell_type": "code",
   "execution_count": 8,
   "metadata": {},
   "outputs": [],
   "source": [
    "import numpy as np\n",
    "import matplotlib.pyplot as plt"
   ]
  },
  {
   "cell_type": "code",
   "execution_count": 14,
   "metadata": {},
   "outputs": [
    {
     "name": "stdout",
     "output_type": "stream",
     "text": [
      "The Mean absolute error is 12.228\n"
     ]
    }
   ],
   "source": [
    "def mean_absolute_error(y, yp):\n",
    "    \"\"\"\n",
    "    計算 MAE\n",
    "    Args:\n",
    "        - y: 實際值\n",
    "        - yp: 預測值\n",
    "    Return:\n",
    "        - mae: MAE\n",
    "    \"\"\"\n",
    "    mae = MAE = sum(abs(y - yp)) / len(y)\n",
    "    return mae\n",
    "\n",
    "MAE = mean_absolute_error(y, y_hat)\n",
    "print(\"The Mean absolute error is %.3f\" % (MAE))"
   ]
  },
  {
   "cell_type": "code",
   "execution_count": 15,
   "metadata": {},
   "outputs": [],
   "source": [
    "def mean_squared_error(y, y_hat):\n",
    "    mse = MSE = (sum(y-y_hat) ** 2) / len(y)\n",
    "    return mse\n"
   ]
  },
  {
   "cell_type": "code",
   "execution_count": 16,
   "metadata": {},
   "outputs": [
    {
     "data": {
      "image/png": "[encoded data removed]",
      "text/plain": [
       "<Figure size 432x288 with 1 Axes>"
      ]
     },
     "metadata": {
      "needs_background": "light"
     },
     "output_type": "display_data"
    }
   ],
   "source": [
    "w = 3\n",
    "b = 0.5\n",
    "\n",
    "x_lin = np.linspace(0, 100, 101)\n",
    "\n",
    "y = (x_lin + np.random.randn(101) * 5) * w + b\n",
    "\n",
    "plt.plot(x_lin, y, 'b.', label = 'data points')\n",
    "plt.title(\"Assume we have data points\")\n",
    "plt.legend(loc = 2)\n",
    "plt.show()"
   ]
  },
  {
   "cell_type": "code",
   "execution_count": 17,
   "metadata": {},
   "outputs": [
    {
     "data": {
      "image/png": "[encoded data removed]",
      "text/plain": [
       "<Figure size 432x288 with 1 Axes>"
      ]
     },
     "metadata": {
      "needs_background": "light"
     },
     "output_type": "display_data"
    }
   ],
   "source": [
    "y_hat = x_lin * w + b\n",
    "plt.plot(x_lin, y, 'b.', label = 'data')\n",
    "plt.plot(x_lin, y_hat, 'r-', label = 'prediction')\n",
    "plt.title(\"Assume we have data points (And the prediction)\")\n",
    "plt.legend(loc = 2)\n",
    "plt.show()"
   ]
  },
  {
   "cell_type": "code",
   "execution_count": 18,
   "metadata": {},
   "outputs": [
    {
     "name": "stdout",
     "output_type": "stream",
     "text": [
      "The Mean squared error is 17.805\n",
      "The Mean absolute error is 11.826\n"
     ]
    }
   ],
   "source": [
    "# 執行 Function, 確認有沒有正常執行\n",
    "MSE = mean_squared_error(y, y_hat)\n",
    "MAE = mean_absolute_error(y, y_hat)\n",
    "print(\"The Mean squared error is %.3f\" % (MSE))\n",
    "print(\"The Mean absolute error is %.3f\" % (MAE))"
   ]
  },
  {
   "cell_type": "code",
   "execution_count": null,
   "metadata": {},
   "outputs": [],
   "source": []
  }
 ],
 "metadata": {
  "anaconda-cloud": {},
  "kernelspec": {
   "display_name": "Python 3",
   "language": "python",
   "name": "python3"
  },
  "language_info": {
   "codemirror_mode": {
    "name": "ipython",
    "version": 3
   },
   "file_extension": ".py",
   "mimetype": "text/x-python",
   "name": "python",
   "nbconvert_exporter": "python",
   "pygments_lexer": "ipython3",
   "version": "3.7.3"
  }
 },
 "nbformat": 4,
 "nbformat_minor": 1
}
