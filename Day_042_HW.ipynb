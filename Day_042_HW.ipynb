{
 "cells": [
  {
   "cell_type": "markdown",
   "metadata": {},
   "source": [
    "## 建立模型四步驟\n",
    "\n",
    "在 Scikit-learn 中，建立一個機器學習的模型其實非常簡單，流程大略是以下四個步驟\n",
    "\n",
    "1. 讀進資料，並檢查資料的 shape (有多少 samples (rows), 多少 features (columns)，label 的型態是什麼？)\n",
    "    - 讀取資料的方法：\n",
    "        - **使用 pandas 讀取 .csv 檔：**pd.read_csv\n",
    "        - **使用 numpy 讀取 .txt 檔：**np.loadtxt \n",
    "        - **使用 Scikit-learn 內建的資料集：**sklearn.datasets.load_xxx\n",
    "    - **檢查資料數量：**data.shape (data should be np.array or dataframe)\n",
    "2. 將資料切為訓練 (train) / 測試 (test)\n",
    "    - train_test_split(data)\n",
    "3. 建立模型，將資料 fit 進模型開始訓練\n",
    "    - clf = DecisionTreeClassifier()\n",
    "    - clf.fit(x_train, y_train)\n",
    "4. 將測試資料 (features) 放進訓練好的模型中，得到 prediction，與測試資料的 label (y_test) 做評估\n",
    "    - clf.predict(x_test)\n",
    "    - accuracy_score(y_test, y_pred)\n",
    "    - f1_score(y_test, y_pred)"
   ]
  },
  {
   "cell_type": "markdown",
   "metadata": {},
   "source": [
    "## 作業\n",
    "\n",
    "1. 試著調整 DecisionTreeClassifier(...) 中的參數，並觀察是否會改變結果？\n",
    "2. 改用其他資料集 (boston, wine)，並與回歸模型的結果進行比較"
   ]
  },
  {
   "cell_type": "markdown",
   "metadata": {},
   "source": [
    "## 1. 試著調整 DecisionTreeClassifier(...) 中的參數，並觀察是否會改變結果？"
   ]
  },
  {
   "cell_type": "code",
   "execution_count": 16,
   "metadata": {},
   "outputs": [],
   "source": [
    "from sklearn import datasets, metrics\n",
    "\n",
    "# 如果是分類問題，請使用 DecisionTreeClassifier，若為回歸問題，請使用 DecisionTreeRegressor\n",
    "from sklearn.tree import DecisionTreeClassifier, DecisionTreeRegressor\n",
    "from sklearn.model_selection import train_test_split\n",
    "import numpy as np\n",
    "import  matplotlib.pyplot as plt"
   ]
  },
  {
   "cell_type": "code",
   "execution_count": 17,
   "metadata": {},
   "outputs": [],
   "source": [
    "# 讀取鳶尾花資料集\n",
    "iris = datasets.load_iris()\n",
    "\n",
    "# 切分訓練集/測試集\n",
    "x_train, x_test, y_train, y_test = train_test_split(iris.data, iris.target, test_size=0.25, random_state=4)"
   ]
  },
  {
   "cell_type": "markdown",
   "metadata": {},
   "source": [
    "### 調整不同決策標準Criterion參數對決策樹的影響"
   ]
  },
  {
   "cell_type": "code",
   "execution_count": 18,
   "metadata": {},
   "outputs": [
    {
     "name": "stdout",
     "output_type": "stream",
     "text": [
      "criterion:gini\n",
      "Traing score:1.000000\n",
      "Testing score:0.973684\n",
      "criterion:entropy\n",
      "Traing score:1.000000\n",
      "Testing score:0.973684\n"
     ]
    }
   ],
   "source": [
    "def test_DecisionTreeClassifier_criterion(*data):\n",
    "    x_train, x_test, y_train, y_test = data\n",
    "    criterions = ['gini','entropy']\n",
    "    for criterion in criterions:\n",
    "        # 建立模型\n",
    "        clf = DecisionTreeClassifier(criterion=criterion)\n",
    "        # 訓練模型\n",
    "        clf.fit(x_train,y_train)\n",
    "        print('criterion:%s'%criterion)\n",
    "        print(\"Traing score:%f\" % (clf.score(x_train, y_train)))\n",
    "        print(\"Testing score:%f\"%(clf.score(x_test,y_test)))\n",
    "        \n",
    "        \n",
    "test_DecisionTreeClassifier_criterion(x_train, x_test, y_train, y_test)"
   ]
  },
  {
   "cell_type": "markdown",
   "metadata": {},
   "source": [
    "### 特徵劃分選擇，隨機和最佳參數對決策樹的影響"
   ]
  },
  {
   "cell_type": "code",
   "execution_count": 19,
   "metadata": {},
   "outputs": [
    {
     "name": "stdout",
     "output_type": "stream",
     "text": [
      "splitter:best\n",
      "Traing score:1.000000\n",
      "Testing score:0.973684\n",
      "splitter:random\n",
      "Traing score:1.000000\n",
      "Testing score:0.947368\n"
     ]
    }
   ],
   "source": [
    "def test_DecisionTreeClassifier_splitter(*data):\n",
    "    x_train, x_test, y_train, y_test = data\n",
    "    splitters = ['best','random']\n",
    "    for splitter in splitters:\n",
    "        clf = DecisionTreeClassifier(splitter=splitter)\n",
    "        clf.fit(x_train,y_train)\n",
    "        print(\"splitter:%s\"%splitter)\n",
    "        print(\"Traing score:%f\" % (clf.score(x_train, y_train)))\n",
    "        print(\"Testing score:%f\"%(clf.score(x_test,y_test)))\n",
    "        \n",
    "        \n",
    "test_DecisionTreeClassifier_splitter(x_train, x_test, y_train, y_test)"
   ]
  },
  {
   "cell_type": "markdown",
   "metadata": {},
   "source": [
    "### 深度參數對決策樹的影響"
   ]
  },
  {
   "cell_type": "code",
   "execution_count": 20,
   "metadata": {},
   "outputs": [
    {
     "data": {
      "image/png": "[encoded data removed]",
      "text/plain": [
       "<Figure size 432x288 with 1 Axes>"
      ]
     },
     "metadata": {
      "needs_background": "light"
     },
     "output_type": "display_data"
    }
   ],
   "source": [
    "def test_DecisionTreeClassifiter_depth(*data,maxdepth):\n",
    "    X_train, X_test, y_train, y_test = data\n",
    "    depths = np.arange(1,maxdepth)\n",
    "    training_scores = []\n",
    "    testing_scores = []\n",
    "    for depth in depths:\n",
    "        clf = DecisionTreeClassifier(max_depth=depth)\n",
    "        clf.fit(X_train,y_train)\n",
    "        training_scores.append(clf.score(X_train,y_train))\n",
    "        testing_scores.append(clf.score(X_test,y_test))\n",
    "    #繪圖\n",
    "    fig = plt.figure()\n",
    "    ax = fig.add_subplot(1,1,1)\n",
    "    ax.plot(depths,training_scores,label='traing score',marker='o')\n",
    "    ax.plot(depths,testing_scores,label='testing score',marker='*')\n",
    "    ax.set_xlabel('maxdepth')\n",
    "    ax.set_ylabel('score')\n",
    "    ax.set_title('Decision Tree Classification')\n",
    "    ax.legend(framealpha=0.5,loc='best')\n",
    "    plt.show()\n",
    "\n",
    "test_DecisionTreeClassifiter_depth(x_train, x_test, y_train, y_test,maxdepth=20)"
   ]
  },
  {
   "cell_type": "code",
   "execution_count": 6,
   "metadata": {},
   "outputs": [
    {
     "ename": "NameError",
     "evalue": "name 'clf' is not defined",
     "output_type": "error",
     "traceback": [
      "\u001b[0;31m---------------------------------------------------------------------------\u001b[0m",
      "\u001b[0;31mNameError\u001b[0m                                 Traceback (most recent call last)",
      "\u001b[0;32m<ipython-input-6-acabd52b0a4b>\u001b[0m in \u001b[0;36m<module>\u001b[0;34m\u001b[0m\n\u001b[0;32m----> 1\u001b[0;31m \u001b[0my_pred\u001b[0m \u001b[0;34m=\u001b[0m \u001b[0mclf\u001b[0m\u001b[0;34m.\u001b[0m\u001b[0mpredict\u001b[0m\u001b[0;34m(\u001b[0m\u001b[0mx_test\u001b[0m\u001b[0;34m)\u001b[0m\u001b[0;34m\u001b[0m\u001b[0;34m\u001b[0m\u001b[0m\n\u001b[0m\u001b[1;32m      2\u001b[0m \u001b[0macc\u001b[0m \u001b[0;34m=\u001b[0m \u001b[0mmetrics\u001b[0m\u001b[0;34m.\u001b[0m\u001b[0maccuracy_score\u001b[0m\u001b[0;34m(\u001b[0m\u001b[0my_test\u001b[0m\u001b[0;34m,\u001b[0m \u001b[0my_pred\u001b[0m\u001b[0;34m)\u001b[0m\u001b[0;34m\u001b[0m\u001b[0;34m\u001b[0m\u001b[0m\n\u001b[1;32m      3\u001b[0m \u001b[0mprint\u001b[0m\u001b[0;34m(\u001b[0m\u001b[0;34m\"Acuuracy: \"\u001b[0m\u001b[0;34m,\u001b[0m \u001b[0macc\u001b[0m\u001b[0;34m)\u001b[0m\u001b[0;34m\u001b[0m\u001b[0;34m\u001b[0m\u001b[0m\n",
      "\u001b[0;31mNameError\u001b[0m: name 'clf' is not defined"
     ]
    }
   ],
   "source": [
    "y_pred = clf.predict(x_test)\n",
    "acc = metrics.accuracy_score(y_test, y_pred)\n",
    "print(\"Acuuracy: \", acc)"
   ]
  },
  {
   "cell_type": "code",
   "execution_count": 7,
   "metadata": {},
   "outputs": [
    {
     "name": "stdout",
     "output_type": "stream",
     "text": [
      "['sepal length (cm)', 'sepal width (cm)', 'petal length (cm)', 'petal width (cm)']\n"
     ]
    }
   ],
   "source": [
    "print(iris.feature_names)"
   ]
  },
  {
   "cell_type": "code",
   "execution_count": 5,
   "metadata": {},
   "outputs": [
    {
     "name": "stdout",
     "output_type": "stream",
     "text": [
      "Feature importance:  [0.         0.01796599 0.52229134 0.45974266]\n"
     ]
    }
   ],
   "source": [
    "print(\"Feature importance: \", clf.feature_importances_)"
   ]
  },
  {
   "cell_type": "markdown",
   "metadata": {},
   "source": [
    "## 2. 改用其他資料集 (boston, wine)，並與回歸模型的結果進行比較"
   ]
  },
  {
   "cell_type": "code",
   "execution_count": 21,
   "metadata": {},
   "outputs": [],
   "source": [
    "# 讀取boston資料集\n",
    "boston = datasets.load_boston()\n",
    "\n",
    "# 切分訓練集/測試集\n",
    "x_train, x_test, y_train, y_test = train_test_split(boston.data, boston.target, test_size=0.25, random_state=4)"
   ]
  },
  {
   "cell_type": "code",
   "execution_count": 25,
   "metadata": {},
   "outputs": [
    {
     "data": {
      "image/png": "[encoded data removed]",
      "text/plain": [
       "<Figure size 432x288 with 1 Axes>"
      ]
     },
     "metadata": {
      "needs_background": "light"
     },
     "output_type": "display_data"
    }
   ],
   "source": [
    "def test_DecisionTreeRegressor_depth(*data,maxdepth):\n",
    "    x_train, x_test, y_train, y_test = data\n",
    "    depths = np.arange(1,maxdepth)\n",
    "    training_scores = []\n",
    "    testing_scores = []\n",
    "    for depth in depths:\n",
    "        clf = DecisionTreeRegressor(max_depth=depth)\n",
    "        clf.fit(x_train,y_train)\n",
    "        training_scores.append(clf.score(x_train,y_train))\n",
    "        testing_scores.append(clf.score(x_test,y_test))\n",
    "    #繪圖\n",
    "    fig = plt.figure()\n",
    "    ax = fig.add_subplot(1,1,1)\n",
    "    ax.plot(depths,training_scores,label='traing score',marker='o')\n",
    "    ax.plot(depths,testing_scores,label='testing score',marker='*')\n",
    "    ax.set_xlabel('maxdepth')\n",
    "    ax.set_ylabel('score')\n",
    "    ax.set_title('Decision Tree Regressor')\n",
    "    ax.legend(framealpha=0.5,loc='best')\n",
    "    plt.show()\n",
    "\n",
    "test_DecisionTreeRegressor_depth(x_train, x_test, y_train, y_test,maxdepth=20)"
   ]
  },
  {
   "cell_type": "code",
   "execution_count": 26,
   "metadata": {},
   "outputs": [],
   "source": [
    "# 讀取wine資料集\n",
    "wine = datasets.load_wine()\n",
    "\n",
    "# 切分訓練集/測試集\n",
    "x_train, x_test, y_train, y_test = train_test_split(wine.data, wine.target, test_size=0.25, random_state=4)"
   ]
  },
  {
   "cell_type": "code",
   "execution_count": 27,
   "metadata": {},
   "outputs": [
    {
     "data": {
      "image/png": "[encoded data removed]",
      "text/plain": [
       "<Figure size 432x288 with 1 Axes>"
      ]
     },
     "metadata": {
      "needs_background": "light"
     },
     "output_type": "display_data"
    }
   ],
   "source": [
    "def test_DecisionTreeRegressor_depth(*data,maxdepth):\n",
    "    x_train, x_test, y_train, y_test = data\n",
    "    depths = np.arange(1,maxdepth)\n",
    "    training_scores = []\n",
    "    testing_scores = []\n",
    "    for depth in depths:\n",
    "        clf = DecisionTreeRegressor(max_depth=depth)\n",
    "        clf.fit(x_train,y_train)\n",
    "        training_scores.append(clf.score(x_train,y_train))\n",
    "        testing_scores.append(clf.score(x_test,y_test))\n",
    "    #繪圖\n",
    "    fig = plt.figure()\n",
    "    ax = fig.add_subplot(1,1,1)\n",
    "    ax.plot(depths,training_scores,label='traing score',marker='o')\n",
    "    ax.plot(depths,testing_scores,label='testing score',marker='*')\n",
    "    ax.set_xlabel('maxdepth')\n",
    "    ax.set_ylabel('score')\n",
    "    ax.set_title('Decision Tree Regressor')\n",
    "    ax.legend(framealpha=0.5,loc='best')\n",
    "    plt.show()\n",
    "\n",
    "test_DecisionTreeRegressor_depth(x_train, x_test, y_train, y_test,maxdepth=20)"
   ]
  },
  {
   "cell_type": "code",
   "execution_count": null,
   "metadata": {},
   "outputs": [],
   "source": []
  }
 ],
 "metadata": {
  "kernelspec": {
   "display_name": "Python 3",
   "language": "python",
   "name": "python3"
  },
  "language_info": {
   "codemirror_mode": {
    "name": "ipython",
    "version": 3
   },
   "file_extension": ".py",
   "mimetype": "text/x-python",
   "name": "python",
   "nbconvert_exporter": "python",
   "pygments_lexer": "ipython3",
   "version": "3.7.3"
  }
 },
 "nbformat": 4,
 "nbformat_minor": 2
}
